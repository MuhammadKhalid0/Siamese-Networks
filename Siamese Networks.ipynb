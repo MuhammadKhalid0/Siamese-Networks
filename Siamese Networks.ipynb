{
  "nbformat": 4,
  "nbformat_minor": 0,
  "metadata": {
    "colab": {
      "provenance": []
    },
    "kernelspec": {
      "name": "python3",
      "display_name": "Python 3"
    },
    "language_info": {
      "name": "python"
    }
  },
  "cells": [
    {
      "cell_type": "markdown",
      "source": [
        "#Project# 1"
      ],
      "metadata": {
        "id": "iOXHPnywzSXH"
      }
    },
    {
      "cell_type": "markdown",
      "metadata": {
        "id": "fyrSKYuBoncg"
      },
      "source": [
        "# Inference Pipeline for Face Recognition Systems\n",
        "- For detection of faces we will use MTCNN\n",
        "- For the alignment, to maintain the simplicity of the scope of this kernel we will only use 2D alignment\n",
        "- We will then use our model to extract the features\n",
        "\n",
        "<img src='https://www.researchgate.net/publication/282863610/figure/fig1/AS:669508570214408@1536634690438/Processing-pipeline-of-face-recognition.jpg'>"
      ]
    },
    {
      "cell_type": "markdown",
      "source": [
        "\n",
        "\n",
        "*   *Develop a Face Recognition System Using \n",
        "FaceNet for your classmate*\n",
        "* **[3 pt]**   Collect a dataset for you and your classmate to do your system\n",
        " \n",
        "* **[2 pt]** Do a Face_Verification function that verifies that the two images for the same person\n",
        "  * The function Input is the path of two images. \n",
        "  * It checks whether both images belong to the same person.\n",
        "  * It returns \"same Person\" or \"not same person\" and the distance between them\n",
        "  * recognition = Face_Verification(\"./image1.jpg\",  \"./image2.jpg\")\n",
        "* **[5 pt]**  Do a **Face_Recognition** A function that clusters an Image to a specific folder in a labeled database \n",
        "  * The function Input is the image and folder path. \n",
        "  * It returns a dictionary of the nearest label folders to the input image and its distance.\n",
        "  * recognition = Face_Recognition(\"./test_image.jpg\",  \"./labeld_database\")\n",
        " \n",
        "---\n",
        "**you may use these steps**\n",
        "\n",
        "* Read an image and Detect the face\n",
        "*  perform alignment\n",
        "* Extract face embeddings\n",
        "* Calculate the distance between embeddings present in the database and extracted input face embeddings\n",
        "*  Find the index of the lowest distance, and check if the distance is less than a threshold\n",
        "  * If yes then use the index to find the person from the database\n",
        "  * Else the person in the input image is not present in the database\n",
        "*  Use the OpenCV utilities to tag the person in the image\n",
        "* cluster faces using SVM \n",
        "* visualize each step"
      ],
      "metadata": {
        "id": "5mwXZoU4zLCZ"
      }
    }
  ]
}